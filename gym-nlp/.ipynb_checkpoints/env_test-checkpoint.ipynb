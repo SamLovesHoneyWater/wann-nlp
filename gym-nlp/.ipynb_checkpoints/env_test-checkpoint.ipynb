{
 "cells": [
  {
   "cell_type": "code",
   "execution_count": 1,
   "id": "7d3225f4",
   "metadata": {},
   "outputs": [
    {
     "name": "stderr",
     "output_type": "stream",
     "text": [
      "\n"
     ]
    },
    {
     "name": "stdout",
     "output_type": "stream",
     "text": [
      "Looking for transcripts in /home/sam/anaconda3/envs/wann/lib/python3.11/site-packages/aochildes/original_transcripts\n",
      "Utterances before dropping rows: 1,379,962\n",
      "Utterances after  dropping rows: 1,180,889\n",
      "Preparing AOCHILDES transcripts...\n",
      "0% [##############################] 100% | ETA: 00:00:00\n",
      "Total time elapsed: 00:00:03\n",
      "There are 3304 transcripts.\n",
      "Our baby model will be facing 19166 unique words.\n"
     ]
    }
   ],
   "source": [
    "import gym\n",
    "import gym_nlp\n",
    "import numpy as np\n",
    "env = gym.make('nlp-v1')"
   ]
  },
  {
   "cell_type": "code",
   "execution_count": 2,
   "id": "af0e3632",
   "metadata": {},
   "outputs": [
    {
     "ename": "AttributeError",
     "evalue": "'NLPEnv_v1' object has no attribute 'token'",
     "output_type": "error",
     "traceback": [
      "\u001b[0;31m---------------------------------------------------------------------------\u001b[0m",
      "\u001b[0;31mAttributeError\u001b[0m                            Traceback (most recent call last)",
      "Cell \u001b[0;32mIn[2], line 2\u001b[0m\n\u001b[1;32m      1\u001b[0m \u001b[38;5;66;03m# initialize the environment\u001b[39;00m\n\u001b[0;32m----> 2\u001b[0m \u001b[43menv\u001b[49m\u001b[38;5;241;43m.\u001b[39;49m\u001b[43mreset\u001b[49m\u001b[43m(\u001b[49m\u001b[43m)\u001b[49m\n\u001b[1;32m      3\u001b[0m env\u001b[38;5;241m.\u001b[39mrender()\n\u001b[1;32m      5\u001b[0m terminated \u001b[38;5;241m=\u001b[39m \u001b[38;5;28;01mFalse\u001b[39;00m\n",
      "File \u001b[0;32m~/anaconda3/envs/wann/lib/python3.11/site-packages/gym/wrappers/order_enforcing.py:18\u001b[0m, in \u001b[0;36mOrderEnforcing.reset\u001b[0;34m(self, **kwargs)\u001b[0m\n\u001b[1;32m     16\u001b[0m \u001b[38;5;28;01mdef\u001b[39;00m \u001b[38;5;21mreset\u001b[39m(\u001b[38;5;28mself\u001b[39m, \u001b[38;5;241m*\u001b[39m\u001b[38;5;241m*\u001b[39mkwargs):\n\u001b[1;32m     17\u001b[0m     \u001b[38;5;28mself\u001b[39m\u001b[38;5;241m.\u001b[39m_has_reset \u001b[38;5;241m=\u001b[39m \u001b[38;5;28;01mTrue\u001b[39;00m\n\u001b[0;32m---> 18\u001b[0m     \u001b[38;5;28;01mreturn\u001b[39;00m \u001b[38;5;28;43mself\u001b[39;49m\u001b[38;5;241;43m.\u001b[39;49m\u001b[43menv\u001b[49m\u001b[38;5;241;43m.\u001b[39;49m\u001b[43mreset\u001b[49m\u001b[43m(\u001b[49m\u001b[38;5;241;43m*\u001b[39;49m\u001b[38;5;241;43m*\u001b[39;49m\u001b[43mkwargs\u001b[49m\u001b[43m)\u001b[49m\n",
      "File \u001b[0;32m~/wann-nlp/gym-nlp/gym_nlp/envs/nlp_env.py:112\u001b[0m, in \u001b[0;36mNLPEnv_v1.reset\u001b[0;34m(self, seed, options)\u001b[0m\n\u001b[1;32m    110\u001b[0m s \u001b[38;5;241m=\u001b[39m \u001b[38;5;28mself\u001b[39m\u001b[38;5;241m.\u001b[39mtokenize(\u001b[38;5;28mself\u001b[39m\u001b[38;5;241m.\u001b[39mcur_passage[\u001b[38;5;241m0\u001b[39m])\n\u001b[1;32m    111\u001b[0m \u001b[38;5;28mself\u001b[39m\u001b[38;5;241m.\u001b[39mcur_sentence \u001b[38;5;241m=\u001b[39m [\u001b[38;5;28mself\u001b[39m\u001b[38;5;241m.\u001b[39mcls] \u001b[38;5;241m+\u001b[39m s\n\u001b[0;32m--> 112\u001b[0m state \u001b[38;5;241m=\u001b[39m {\u001b[38;5;124m'\u001b[39m\u001b[38;5;124mclear_cache\u001b[39m\u001b[38;5;124m'\u001b[39m: \u001b[38;5;241m1\u001b[39m, \u001b[38;5;124m'\u001b[39m\u001b[38;5;124mtoken\u001b[39m\u001b[38;5;124m'\u001b[39m: \u001b[38;5;28;43mself\u001b[39;49m\u001b[38;5;241;43m.\u001b[39;49m\u001b[43mtoken\u001b[49m}\n\u001b[1;32m    114\u001b[0m \u001b[38;5;28;01mreturn\u001b[39;00m state, \u001b[38;5;241m0\u001b[39m, \u001b[38;5;28;01mFalse\u001b[39;00m, info\n",
      "\u001b[0;31mAttributeError\u001b[0m: 'NLPEnv_v1' object has no attribute 'token'"
     ]
    }
   ],
   "source": [
    "# initialize the environment\n",
    "env.reset()\n",
    "\n",
    "terminated = False\n",
    "while not terminated:  \n",
    "\n",
    "    # choose a random action\n",
    "    action = env.action_space.sample()   \n",
    "    \n",
    "    # take the action and get the information from the environment\n",
    "    #new_state, reward, terminated, truncated, info = env.step(action)\n",
    "    response =env.step(action)\n",
    "  \n",
    "    # show the current position and reward\n",
    "    env.render()"
   ]
  },
  {
   "cell_type": "code",
   "execution_count": null,
   "id": "978f3d7c",
   "metadata": {},
   "outputs": [],
   "source": [
    "print(gym.__version__)"
   ]
  },
  {
   "cell_type": "code",
   "execution_count": 8,
   "id": "7ea020e5",
   "metadata": {},
   "outputs": [
    {
     "name": "stdout",
     "output_type": "stream",
     "text": [
      "Collecting gym==0.22.0\n",
      "  Downloading gym-0.22.0.tar.gz (631 kB)\n",
      "\u001b[2K     \u001b[90m━━━━━━━━━━━━━━━━━━━━━━━━━━━━━━━━━━━━━━\u001b[0m \u001b[32m631.1/631.1 kB\u001b[0m \u001b[31m11.7 MB/s\u001b[0m eta \u001b[36m0:00:00\u001b[0ma \u001b[36m0:00:01\u001b[0m\n",
      "\u001b[?25h  Installing build dependencies ... \u001b[?25ldone\n",
      "\u001b[?25h  Getting requirements to build wheel ... \u001b[?25ldone\n",
      "\u001b[?25h  Preparing metadata (pyproject.toml) ... \u001b[?25ldone\n",
      "\u001b[?25hRequirement already satisfied: numpy>=1.18.0 in /home/sam/anaconda3/envs/wann/lib/python3.11/site-packages (from gym==0.22.0) (1.24.3)\n",
      "Requirement already satisfied: cloudpickle>=1.2.0 in /home/sam/anaconda3/envs/wann/lib/python3.11/site-packages (from gym==0.22.0) (2.2.1)\n",
      "Requirement already satisfied: gym-notices>=0.0.4 in /home/sam/anaconda3/envs/wann/lib/python3.11/site-packages (from gym==0.22.0) (0.0.8)\n",
      "Building wheels for collected packages: gym\n",
      "  Building wheel for gym (pyproject.toml) ... \u001b[?25ldone\n",
      "\u001b[?25h  Created wheel for gym: filename=gym-0.22.0-py3-none-any.whl size=708377 sha256=09a5946bfeab4c43c689c550cf067ee3f860203c2c537a81f9bfed9be4fc64b9\n",
      "  Stored in directory: /home/sam/.cache/pip/wheels/11/60/2b/8b26bcd8a4a0fcfb5b036e5195ffb8cb092ca53de15b2266c9\n",
      "Successfully built gym\n",
      "Installing collected packages: gym\n",
      "  Attempting uninstall: gym\n",
      "    Found existing installation: gym 0.9.6\n",
      "    Uninstalling gym-0.9.6:\n",
      "      Successfully uninstalled gym-0.9.6\n",
      "Successfully installed gym-0.22.0\n"
     ]
    }
   ],
   "source": [
    "!pip install gym==0.22.0"
   ]
  },
  {
   "cell_type": "code",
   "execution_count": null,
   "id": "ba119e71",
   "metadata": {},
   "outputs": [],
   "source": []
  }
 ],
 "metadata": {
  "kernelspec": {
   "display_name": "Python 3 (ipykernel)",
   "language": "python",
   "name": "python3"
  },
  "language_info": {
   "codemirror_mode": {
    "name": "ipython",
    "version": 3
   },
   "file_extension": ".py",
   "mimetype": "text/x-python",
   "name": "python",
   "nbconvert_exporter": "python",
   "pygments_lexer": "ipython3",
   "version": "3.11.3"
  }
 },
 "nbformat": 4,
 "nbformat_minor": 5
}
