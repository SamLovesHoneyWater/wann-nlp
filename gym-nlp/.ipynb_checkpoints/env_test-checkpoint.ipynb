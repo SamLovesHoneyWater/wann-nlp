{
 "cells": [
  {
   "cell_type": "code",
   "execution_count": 1,
   "id": "7d3225f4",
   "metadata": {},
   "outputs": [
    {
     "name": "stderr",
     "output_type": "stream",
     "text": [
      "\n"
     ]
    },
    {
     "name": "stdout",
     "output_type": "stream",
     "text": [
      "Looking for transcripts in /home/sam/anaconda3/envs/wann/lib/python3.11/site-packages/aochildes/original_transcripts\n",
      "Utterances before dropping rows: 1,379,962\n",
      "Utterances after  dropping rows: 1,180,889\n",
      "Preparing AOCHILDES transcripts...\n",
      "0% [##############################] 100% | ETA: 00:00:00\n",
      "Total time elapsed: 00:00:03\n",
      "There are 3304 transcripts.\n",
      "Our baby model will be facing 19166 unique words.\n"
     ]
    }
   ],
   "source": [
    "import gym\n",
    "import gym_nlp\n",
    "import numpy as np\n",
    "env = gym.make('nlp-v1')"
   ]
  },
  {
   "cell_type": "code",
   "execution_count": 1,
   "id": "18187c4c",
   "metadata": {},
   "outputs": [
    {
     "ename": "NameError",
     "evalue": "name 'env' is not defined",
     "output_type": "error",
     "traceback": [
      "\u001b[0;31m---------------------------------------------------------------------------\u001b[0m",
      "\u001b[0;31mNameError\u001b[0m                                 Traceback (most recent call last)",
      "Cell \u001b[0;32mIn[1], line 2\u001b[0m\n\u001b[1;32m      1\u001b[0m \u001b[38;5;66;03m# initialize the environment\u001b[39;00m\n\u001b[0;32m----> 2\u001b[0m \u001b[43menv\u001b[49m\u001b[38;5;241m.\u001b[39mreset()\n\u001b[1;32m      3\u001b[0m s\n\u001b[1;32m      4\u001b[0m terminated \u001b[38;5;241m=\u001b[39m \u001b[38;5;28;01mFalse\u001b[39;00m\n",
      "\u001b[0;31mNameError\u001b[0m: name 'env' is not defined"
     ]
    }
   ],
   "source": [
    "# initialize the environment\n",
    "env.reset()\n",
    "\n",
    "terminated = False\n",
    "while not terminated:  \n",
    "\n",
    "    # choose a random action\n",
    "    action = env.action_space.sample()   \n",
    "    \n",
    "    # take the action and get the information from the environment\n",
    "    #new_state, reward, terminated, truncated, info = env.step(action)\n",
    "    response =env.step(action)\n",
    "  \n",
    "    # show the current position and reward\n",
    "    env.render()"
   ]
  },
  {
   "cell_type": "code",
   "execution_count": null,
   "id": "30cb02ad",
   "metadata": {},
   "outputs": [],
   "source": [
    "print(gym.__version__)"
   ]
  },
  {
   "cell_type": "code",
   "execution_count": null,
   "id": "3582f05c",
   "metadata": {},
   "outputs": [],
   "source": []
  }
 ],
 "metadata": {
  "kernelspec": {
   "display_name": "Python 3 (ipykernel)",
   "language": "python",
   "name": "python3"
  },
  "language_info": {
   "codemirror_mode": {
    "name": "ipython",
    "version": 3
   },
   "file_extension": ".py",
   "mimetype": "text/x-python",
   "name": "python",
   "nbconvert_exporter": "python",
   "pygments_lexer": "ipython3",
   "version": "3.11.3"
  }
 },
 "nbformat": 4,
 "nbformat_minor": 5
}
